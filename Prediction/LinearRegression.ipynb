{
 "cells": [
  {
   "cell_type": "markdown",
   "metadata": {},
   "source": [
    "### Imports, Directory and Path"
   ]
  },
  {
   "cell_type": "code",
   "execution_count": 1,
   "metadata": {
    "collapsed": true
   },
   "outputs": [],
   "source": [
    "import os\n",
    "from os import path\n",
    "import sys\n",
    "import time\n",
    "\n",
    "import numpy as np\n",
    "import pandas as pd\n",
    "from scipy.stats.mstats import zscore\n",
    "\n",
    "import matplotlib.pyplot as plt\n",
    "% matplotlib inline"
   ]
  },
  {
   "cell_type": "code",
   "execution_count": 3,
   "metadata": {
    "collapsed": true
   },
   "outputs": [],
   "source": [
    "BASE_DIR = \"../AmesHousing/\"\n",
    "sys.path.append(path.abspath(BASE_DIR+'SupportModule/'))\n",
    "\n",
    "import lookup_dir_names as DIR\n",
    "import fnc_featureSelection as FS"
   ]
  },
  {
   "cell_type": "code",
   "execution_count": 4,
   "metadata": {
    "collapsed": true
   },
   "outputs": [],
   "source": [
    "from sklearn.model_selection import train_test_split\n",
    "from sklearn.linear_model import LinearRegression\n",
    "from sklearn import metrics\n",
    "from sklearn.metrics import mean_squared_error\n",
    "from sklearn.model_selection import cross_val_score\n",
    "from sklearn.preprocessing import StandardScaler"
   ]
  },
  {
   "cell_type": "markdown",
   "metadata": {},
   "source": [
    "### Training data \n",
    "Select features and perform feature engineering"
   ]
  },
  {
   "cell_type": "code",
   "execution_count": 6,
   "metadata": {},
   "outputs": [
    {
     "name": "stdout",
     "output_type": "stream",
     "text": [
      "(1460, 7)\n",
      "(1460, 5)\n",
      "(1460, 54)\n",
      "(1460,)\n"
     ]
    }
   ],
   "source": [
    "trn = pd.read_csv(DIR.DATA_IN+\"train.csv\")\n",
    "num_df, ctg_df, dummy_df = FS.combineFeatures_01(trn)\n",
    "target_df = trn['SalePrice']\n",
    "\n",
    "print(num_df.shape)\n",
    "print(ctg_df.shape)\n",
    "print(dummy_df.shape)\n",
    "print(target_df.shape)"
   ]
  },
  {
   "cell_type": "markdown",
   "metadata": {},
   "source": [
    "**Column names**"
   ]
  },
  {
   "cell_type": "code",
   "execution_count": 10,
   "metadata": {},
   "outputs": [
    {
     "data": {
      "text/plain": [
       "array(['TotLotSF', 'TotFlrSF', 'TotalBsmtSF', 'TotNumBath', 'GarageArea',\n",
       "       'PorchArea', 'PoolArea'], dtype=object)"
      ]
     },
     "execution_count": 10,
     "metadata": {},
     "output_type": "execute_result"
    }
   ],
   "source": [
    "num_df.columns.values"
   ]
  },
  {
   "cell_type": "code",
   "execution_count": 11,
   "metadata": {},
   "outputs": [
    {
     "data": {
      "text/plain": [
       "array(['Year', 'isGarage', 'isFireplace', 'isPorch', 'isPool'], dtype=object)"
      ]
     },
     "execution_count": 11,
     "metadata": {},
     "output_type": "execute_result"
    }
   ],
   "source": [
    "ctg_df.columns.values"
   ]
  },
  {
   "cell_type": "code",
   "execution_count": 12,
   "metadata": {},
   "outputs": [
    {
     "data": {
      "text/plain": [
       "array(['GarageCars_0', 'GarageCars_1', 'GarageCars_2', 'GarageCars_3',\n",
       "       'GarageCars_4', 'OverallQual_1', 'OverallQual_10', 'OverallQual_2',\n",
       "       'OverallQual_3', 'OverallQual_4', 'OverallQual_5', 'OverallQual_6',\n",
       "       'OverallQual_7', 'OverallQual_8', 'OverallQual_9', 'OverallCond_1',\n",
       "       'OverallCond_2', 'OverallCond_3', 'OverallCond_4', 'OverallCond_5',\n",
       "       'OverallCond_6', 'OverallCond_7', 'OverallCond_8', 'OverallCond_9',\n",
       "       'Neighborhood_Blmngtn', 'Neighborhood_Blueste',\n",
       "       'Neighborhood_BrDale', 'Neighborhood_BrkSide',\n",
       "       'Neighborhood_ClearCr', 'Neighborhood_CollgCr',\n",
       "       'Neighborhood_Crawfor', 'Neighborhood_Edwards',\n",
       "       'Neighborhood_Gilbert', 'Neighborhood_IDOTRR',\n",
       "       'Neighborhood_MeadowV', 'Neighborhood_Mitchel',\n",
       "       'Neighborhood_NAmes', 'Neighborhood_NPkVill', 'Neighborhood_NWAmes',\n",
       "       'Neighborhood_NoRidge', 'Neighborhood_NridgHt',\n",
       "       'Neighborhood_OldTown', 'Neighborhood_SWISU', 'Neighborhood_Sawyer',\n",
       "       'Neighborhood_SawyerW', 'Neighborhood_Somerst',\n",
       "       'Neighborhood_StoneBr', 'Neighborhood_Timber',\n",
       "       'Neighborhood_Veenker', 'BldgType_1Fam', 'BldgType_2fmCon',\n",
       "       'BldgType_Duplex', 'BldgType_Twnhs', 'BldgType_TwnhsE'], dtype=object)"
      ]
     },
     "execution_count": 12,
     "metadata": {},
     "output_type": "execute_result"
    }
   ],
   "source": [
    "dummy_df.columns.values"
   ]
  },
  {
   "cell_type": "markdown",
   "metadata": {},
   "source": [
    "# Modeling"
   ]
  },
  {
   "cell_type": "code",
   "execution_count": 15,
   "metadata": {
    "collapsed": true
   },
   "outputs": [],
   "source": [
    "def featureNorm(Features):\n",
    "    featnorm = StandardScaler()\n",
    "    normFeatures = featnorm.fit_transform(Features)\n",
    "    return normFeatures\n",
    "    \n",
    "def splitTrainTest(X, Y, split_size=0.3, seed=42):\n",
    "    Xtrn, Xtest, Ytrn, Ytest = train_test_split(X, Y, test_size=split_size, random_state=seed)\n",
    "    return Xtrn, Xtest, Ytrn, Ytest\n",
    "    \n",
    "\n",
    "def applyLinearRegression(Xtrn, Xtest, Ytrn, Ytest):\n",
    "    lr = LinearRegression() #define model\n",
    "    lr_model = lr.fit(Xtrn, Ytrn) #train model\n",
    "    Ypred = lr_model.predict(Xtest) #apply model to make prediction  \n",
    "    trn_score = lr_model.score(Xtrn, Ytrn) # compute score (R-sq by default)\n",
    "    test_score = lr_model.score(Xtest, Ytest)\n",
    "    return trn_score, test_score, Ypred\n",
    "\n",
    "\n",
    "def applyLinearRegressionCV(X, Y):\n",
    "    #define model\n",
    "    lr = LinearRegression()  \n",
    "    scores = cross_val_score(lr, X, Y, cv=10)\n",
    "    return scores"
   ]
  },
  {
   "cell_type": "markdown",
   "metadata": {},
   "source": [
    "### 1 A\n",
    "Use numerical fetures only.   \n",
    "Standarize X   \n",
    "linear Y"
   ]
  },
  {
   "cell_type": "code",
   "execution_count": 19,
   "metadata": {},
   "outputs": [
    {
     "name": "stdout",
     "output_type": "stream",
     "text": [
      "Results from linear regression:\n",
      "R-sq on training data:  0.692524092863\n",
      "R-sq on test data:  0.686489434819\n",
      " \n",
      "Cross validation scores: [ 0.74404876  0.77427744  0.79816051  0.64846946  0.72362622  0.76146566\n",
      "  0.68727391  0.69678864  0.33593079  0.7088964 ]\n"
     ]
    }
   ],
   "source": [
    "X = num_df\n",
    "Y = target_df\n",
    "\n",
    "X_n = featureNorm(X)\n",
    "Y_log = target_df.apply(np.log)\n",
    "\n",
    "Xtrn, Xtest, Ytrn, Ytest = splitTrainTest(X_n, Y, split_size=0.3, seed = 1000)\n",
    "trn_score, test_score, Ypred = applyLinearRegression(Xtrn, Xtest, Ytrn, Ytest)\n",
    "cv_scores = applyLinearRegressionCV(X_n, Y)\n",
    "\n",
    "print(\"Results from linear regression:\")\n",
    "print(\"R-sq on training data: \", trn_score)\n",
    "print(\"R-sq on test data: \", test_score)\n",
    "\n",
    "print(\" \")\n",
    "print(\"Cross validation scores:\", cv_scores)"
   ]
  },
  {
   "cell_type": "markdown",
   "metadata": {},
   "source": [
    "### 1 B\n",
    "Use numerical fetures only.  \n",
    "Standarize X  \n",
    "log transform Y  "
   ]
  },
  {
   "cell_type": "code",
   "execution_count": 20,
   "metadata": {},
   "outputs": [
    {
     "name": "stdout",
     "output_type": "stream",
     "text": [
      "Results from linear regression:\n",
      "R-sq on training data:  0.723210417585\n",
      "R-sq on test data:  0.724127517201\n",
      " \n",
      "Cross validation scores: [ 0.76089571  0.82199001  0.80674839  0.68117925  0.75451625  0.76638756\n",
      "  0.73175888  0.70706985  0.24434791  0.71690616]\n"
     ]
    }
   ],
   "source": [
    "X = num_df\n",
    "Y = target_df\n",
    "\n",
    "X_n = featureNorm(X)\n",
    "Y_log = target_df.apply(np.log)\n",
    "\n",
    "Xtrn, Xtest, Ytrn, Ytest = splitTrainTest(X_n, Y_log, split_size=0.30, seed = 1000)\n",
    "trn_score, test_score, Ypred = applyLinearRegression(Xtrn, Xtest, Ytrn, Ytest)\n",
    "cv_scores = applyLinearRegressionCV(X_n, Y_log)\n",
    "\n",
    "print(\"Results from linear regression:\")\n",
    "print(\"R-sq on training data: \", trn_score)\n",
    "print(\"R-sq on test data: \", test_score)\n",
    "\n",
    "print(\" \")\n",
    "print(\"Cross validation scores:\", cv_scores)"
   ]
  },
  {
   "cell_type": "markdown",
   "metadata": {},
   "source": [
    "### 2 A\n",
    "Consider numerical and categorical variables. Instaed of \"garage-area\", \"porch-area\",\"pool-area\" use their ctg.  \n",
    "Standarize X   \n",
    "linear Y"
   ]
  },
  {
   "cell_type": "code",
   "execution_count": 21,
   "metadata": {},
   "outputs": [
    {
     "name": "stdout",
     "output_type": "stream",
     "text": [
      "Features considered:\n",
      "['TotLotSF' 'TotFlrSF' 'TotalBsmtSF' 'TotNumBath' 'Year' 'isGarage'\n",
      " 'isFireplace' 'isPorch' 'isPool']\n",
      " \n",
      "Results from linear regression:\n",
      "R-sq on training data:  0.730063231009\n",
      "R-sq on test data:  0.716624121746\n",
      " \n",
      "Cross validation scores: [ 0.77229892  0.7788573   0.8280839   0.68081151  0.75875062  0.80247637\n",
      "  0.76805926  0.76290335  0.3824367   0.7185192 ]\n"
     ]
    }
   ],
   "source": [
    "# apply feature standarization to num vars only\n",
    "X_num_df = num_df.iloc[:, 0:4]\n",
    "X_num_norm = featureNorm(X_num_df)\n",
    "X_num_norm_df = pd.DataFrame(X_num_norm, columns=X_num_df.columns.values)\n",
    "\n",
    "X = pd.concat( (X_num_norm_df, ctg_df), axis=1)\n",
    "Y = target_df\n",
    "\n",
    "X_n = featureNorm(X)\n",
    "Y_log = target_df.apply(np.log)\n",
    "\n",
    "Xtrn, Xtest, Ytrn, Ytest = splitTrainTest(X_n, Y, split_size=0.3, seed = 1000)\n",
    "trn_score, test_score, Ypred = applyLinearRegression(Xtrn, Xtest, Ytrn, Ytest)\n",
    "cv_scores = applyLinearRegressionCV(X_n, Y)\n",
    "\n",
    "print(\"Features considered:\")\n",
    "print(X.columns.values)\n",
    "\n",
    "print(\" \")\n",
    "\n",
    "print(\"Results from linear regression:\")\n",
    "print(\"R-sq on training data: \", trn_score)\n",
    "print(\"R-sq on test data: \", test_score)\n",
    "\n",
    "print(\" \")\n",
    "\n",
    "print(\"Cross validation scores:\", cv_scores)"
   ]
  },
  {
   "cell_type": "markdown",
   "metadata": {},
   "source": [
    "### 2 B\n",
    "Consider numerical and categorical variables. Instaed of \"garage-area\", \"porch-area\",\"pool-area\" use their ctg.   \n",
    "Standarize X   \n",
    "log transform Y"
   ]
  },
  {
   "cell_type": "code",
   "execution_count": 22,
   "metadata": {},
   "outputs": [
    {
     "name": "stdout",
     "output_type": "stream",
     "text": [
      "Features considered:\n",
      "['TotLotSF' 'TotFlrSF' 'TotalBsmtSF' 'TotNumBath' 'Year' 'isGarage'\n",
      " 'isFireplace' 'isPorch' 'isPool']\n",
      " \n",
      "Results from linear regression:\n",
      "R-sq on training data:  0.781213801858\n",
      "R-sq on test data:  0.773537898972\n",
      " \n",
      "Cross validation scores: [ 0.79701719  0.83542434  0.8462405   0.73781338  0.8257983   0.83371942\n",
      "  0.80506734  0.79510348  0.36948277  0.73827961]\n"
     ]
    }
   ],
   "source": [
    "# apply feature standarization to num vars only\n",
    "X_num_df = num_df.iloc[:, 0:4]\n",
    "X_num_norm = featureNorm(X_num_df)\n",
    "X_num_norm_df = pd.DataFrame(X_num_norm, columns=X_num_df.columns.values)\n",
    "\n",
    "X = pd.concat( (X_num_norm_df, ctg_df), axis=1)\n",
    "Y = target_df\n",
    "\n",
    "X_n = featureNorm(X)\n",
    "Y_log = target_df.apply(np.log)\n",
    "\n",
    "Xtrn, Xtest, Ytrn, Ytest = splitTrainTest(X_n, Y_log, split_size=0.3, seed = 1000)\n",
    "trn_score, test_score, Ypred = applyLinearRegression(Xtrn, Xtest, Ytrn, Ytest)\n",
    "cv_scores = applyLinearRegressionCV(X_n, Y_log)\n",
    "\n",
    "print(\"Features considered:\")\n",
    "print(X.columns.values)\n",
    "\n",
    "print(\" \")\n",
    "\n",
    "print(\"Results from linear regression:\")\n",
    "print(\"R-sq on training data: \", trn_score)\n",
    "print(\"R-sq on test data: \", test_score)\n",
    "\n",
    "print(\" \")\n",
    "\n",
    "print(\"Cross validation scores:\", cv_scores)"
   ]
  },
  {
   "cell_type": "markdown",
   "metadata": {},
   "source": [
    "### 3 A\n",
    "Consider numerical, categorical and dummy variables. Instaed of \"garage-area\", \"porch-area\",\"pool-area\" use their ctg.  \n",
    "Standarize X   \n",
    "linear Y"
   ]
  },
  {
   "cell_type": "code",
   "execution_count": 23,
   "metadata": {},
   "outputs": [
    {
     "name": "stdout",
     "output_type": "stream",
     "text": [
      "Features considered:\n",
      "['TotLotSF' 'TotFlrSF' 'TotalBsmtSF' 'TotNumBath' 'Year' 'isGarage'\n",
      " 'isFireplace' 'isPorch' 'isPool']\n",
      " \n",
      "Results from linear regression:\n",
      "R-sq on training data:  0.863275569873\n",
      "R-sq on test data:  -4.0956672732e+18\n",
      " \n",
      "Cross validation scores: [  8.83871784e-01   9.12186354e-01  -6.96891550e+21  -7.07578061e+21\n",
      "   8.46925877e-01   8.74557853e-01   8.70256022e-01   8.59090110e-01\n",
      "   6.77547913e-01   8.27274253e-01]\n"
     ]
    }
   ],
   "source": [
    "# apply feature standarization to num vars only\n",
    "X_num_df = num_df.iloc[:, 0:4]\n",
    "X_num_norm = featureNorm(X_num_df)\n",
    "X_num_norm_df = pd.DataFrame(X_num_norm, columns=X_num_df.columns.values)\n",
    "X_num_norm_df.head()\n",
    "\n",
    "X_n = pd.concat( (X_num_norm_df, ctg_df, dummy_df), axis=1)\n",
    "Y = target_df\n",
    "\n",
    "Y_log = target_df.apply(np.log)\n",
    "\n",
    "Xtrn, Xtest, Ytrn, Ytest = splitTrainTest(X_n, Y, split_size=0.3, seed = 1000)\n",
    "trn_score, test_score, Ypred = applyLinearRegression(Xtrn, Xtest, Ytrn, Ytest)\n",
    "cv_scores = applyLinearRegressionCV(X_n, Y)\n",
    "\n",
    "print(\"Features considered:\")\n",
    "print(X.columns.values)\n",
    "\n",
    "print(\" \")\n",
    "\n",
    "print(\"Results from linear regression:\")\n",
    "print(\"R-sq on training data: \", trn_score)\n",
    "print(\"R-sq on test data: \", test_score)\n",
    "\n",
    "print(\" \")\n",
    "\n",
    "print(\"Cross validation scores:\", cv_scores)"
   ]
  },
  {
   "cell_type": "markdown",
   "metadata": {},
   "source": [
    "### 3 B\n",
    "Consider numerical, categorical and dummy variables. Instaed of \"garage-area\", \"porch-area\",\"pool-area\" use their ctg.  \n",
    "Standarize X   \n",
    "log transform Y"
   ]
  },
  {
   "cell_type": "code",
   "execution_count": 25,
   "metadata": {},
   "outputs": [
    {
     "name": "stdout",
     "output_type": "stream",
     "text": [
      "Features considered:\n",
      "['TotLotSF' 'TotFlrSF' 'TotalBsmtSF' 'TotNumBath' 'Year' 'isGarage'\n",
      " 'isFireplace' 'isPorch' 'isPool']\n",
      " \n",
      "Results from linear regression:\n",
      "R-sq on training data:  0.884722390154\n",
      "R-sq on test data:  -8.68686187073e+18\n",
      " \n",
      "Cross validation scores: [  8.74300666e-01   9.15787626e-01  -3.91827308e+21  -5.43736777e+22\n",
      "   8.71830605e-01   8.95516152e-01   8.86026079e-01   8.92535499e-01\n",
      "   7.08535357e-01   8.38026335e-01]\n"
     ]
    }
   ],
   "source": [
    "# apply feature standarization to num vars only\n",
    "X_num_df = num_df.iloc[:, 0:4]\n",
    "X_num_norm = featureNorm(X_num_df)\n",
    "X_num_norm_df = pd.DataFrame(X_num_norm, columns=X_num_df.columns.values)\n",
    "\n",
    "X_n = pd.concat( (X_num_norm_df, ctg_df, dummy_df), axis=1)\n",
    "Y = target_df\n",
    "\n",
    "Y_log = target_df.apply(np.log)\n",
    "\n",
    "Xtrn, Xtest, Ytrn, Ytest = splitTrainTest(X_n, Y_log, split_size=0.3, seed = 1000)\n",
    "trn_score, test_score, Ypred = applyLinearRegression(Xtrn, Xtest, Ytrn, Ytest)\n",
    "cv_scores = applyLinearRegressionCV(X_n, Y_log)\n",
    "\n",
    "print(\"Features considered:\")\n",
    "print(X.columns.values)\n",
    "\n",
    "print(\" \")\n",
    "\n",
    "print(\"Results from linear regression:\")\n",
    "print(\"R-sq on training data: \", trn_score)\n",
    "print(\"R-sq on test data: \", test_score)\n",
    "\n",
    "print(\" \")\n",
    "\n",
    "print(\"Cross validation scores:\", cv_scores)"
   ]
  },
  {
   "cell_type": "markdown",
   "metadata": {},
   "source": [
    "### 4 Play with dummy features  \n",
    "log transform Y"
   ]
  },
  {
   "cell_type": "markdown",
   "metadata": {},
   "source": [
    "** 4A Garage (+ num features)**"
   ]
  },
  {
   "cell_type": "code",
   "execution_count": 26,
   "metadata": {},
   "outputs": [
    {
     "name": "stdout",
     "output_type": "stream",
     "text": [
      "Features considered:\n",
      "['TotLotSF' 'TotFlrSF' 'TotalBsmtSF' 'TotNumBath' 'GarageCars_0'\n",
      " 'GarageCars_1' 'GarageCars_2' 'GarageCars_3' 'GarageCars_4']\n",
      " \n",
      "Results from linear regression:\n",
      "R-sq on training data:  0.74327586807\n",
      "R-sq on test data:  0.739364389656\n",
      " \n",
      "Cross validation scores: [ 0.7549515   0.82720485  0.80194953  0.70436279  0.76122325  0.76411319\n",
      "  0.75193562  0.72564836  0.38203255  0.77775944]\n"
     ]
    }
   ],
   "source": [
    "# apply feature standarization to num vars only\n",
    "X_num_df = num_df.iloc[:, 0:4]\n",
    "X_num_norm = featureNorm(X_num_df)\n",
    "X_num_norm_df = pd.DataFrame(X_num_norm, columns=X_num_df.columns.values)\n",
    "\n",
    "# Select dummy\n",
    "# Garage only\n",
    "\n",
    "X_n = pd.concat( (X_num_norm_df, dummy_df.iloc[:, 0:5]), axis=1)\n",
    "Y = target_df\n",
    "\n",
    "Y_log = target_df.apply(np.log)\n",
    "\n",
    "Xtrn, Xtest, Ytrn, Ytest = splitTrainTest(X_n, Y_log, split_size=0.3, seed = 1000)\n",
    "trn_score, test_score, Ypred = applyLinearRegression(Xtrn, Xtest, Ytrn, Ytest)\n",
    "cv_scores = applyLinearRegressionCV(X_n, Y_log)\n",
    "\n",
    "print(\"Features considered:\")\n",
    "print(X_n.columns.values)\n",
    "\n",
    "print(\" \")\n",
    "\n",
    "print(\"Results from linear regression:\")\n",
    "print(\"R-sq on training data: \", trn_score)\n",
    "print(\"R-sq on test data: \", test_score)\n",
    "\n",
    "print(\" \")\n",
    "\n",
    "print(\"Cross validation scores:\", cv_scores)"
   ]
  },
  {
   "cell_type": "code",
   "execution_count": 27,
   "metadata": {},
   "outputs": [
    {
     "name": "stdout",
     "output_type": "stream",
     "text": [
      "Features considered:\n",
      "['GarageCars_0' 'GarageCars_1' 'GarageCars_2' 'GarageCars_3' 'GarageCars_4']\n",
      " \n",
      "Results from linear regression:\n",
      "R-sq on training data:  0.494260068528\n",
      "R-sq on test data:  0.469737786659\n",
      " \n",
      "Cross validation scores: [ 0.45228198  0.58682363  0.54925842  0.50211033  0.4995946   0.38588577\n",
      "  0.45755778  0.42095563  0.42880547  0.49456607]\n"
     ]
    }
   ],
   "source": [
    "# Select dummy\n",
    "# Garage only\n",
    "X = dummy_df.iloc[:, 0:5]\n",
    "Y = target_df\n",
    "\n",
    "Y_log = target_df.apply(np.log)\n",
    "\n",
    "Xtrn, Xtest, Ytrn, Ytest = splitTrainTest(X, Y_log, split_size=0.3, seed = 1000)\n",
    "trn_score, test_score, Ypred = applyLinearRegression(Xtrn, Xtest, Ytrn, Ytest)\n",
    "cv_scores = applyLinearRegressionCV(X, Y_log)\n",
    "\n",
    "print(\"Features considered:\")\n",
    "print(X.columns.values)\n",
    "\n",
    "print(\" \")\n",
    "\n",
    "print(\"Results from linear regression:\")\n",
    "print(\"R-sq on training data: \", trn_score)\n",
    "print(\"R-sq on test data: \", test_score)\n",
    "\n",
    "print(\" \")\n",
    "\n",
    "print(\"Cross validation scores:\", cv_scores)"
   ]
  },
  {
   "cell_type": "markdown",
   "metadata": {},
   "source": [
    "**4B Quality (+ num features)**"
   ]
  },
  {
   "cell_type": "code",
   "execution_count": 28,
   "metadata": {},
   "outputs": [
    {
     "name": "stdout",
     "output_type": "stream",
     "text": [
      "Features considered:\n",
      "['TotLotSF' 'TotFlrSF' 'TotalBsmtSF' 'TotNumBath' 'OverallQual_1'\n",
      " 'OverallQual_10' 'OverallQual_2' 'OverallQual_3' 'OverallQual_4'\n",
      " 'OverallQual_5' 'OverallQual_6' 'OverallQual_7' 'OverallQual_8'\n",
      " 'OverallQual_9' 'OverallCond_1' 'OverallCond_2' 'OverallCond_3'\n",
      " 'OverallCond_4' 'OverallCond_5' 'OverallCond_6' 'OverallCond_7'\n",
      " 'OverallCond_8' 'OverallCond_9']\n",
      " \n",
      "Results from linear regression:\n",
      "R-sq on training data:  0.818886893698\n",
      "R-sq on test data:  0.81136532436\n",
      " \n",
      "Cross validation scores: [ 0.81556712  0.85193446  0.86242566  0.7690015   0.82642675  0.84297996\n",
      "  0.83716222  0.82787647  0.5523528   0.82448819]\n"
     ]
    }
   ],
   "source": [
    "# apply feature standarization to num vars only\n",
    "X_num_df = num_df.iloc[:, 0:4]\n",
    "X_num_norm = featureNorm(X_num_df)\n",
    "X_num_norm_df = pd.DataFrame(X_num_norm, columns=X_num_df.columns.values)\n",
    "\n",
    "# Select dummy\n",
    "# Quality only\n",
    "\n",
    "X_n = pd.concat( (X_num_norm_df, dummy_df.iloc[:, 5:24]), axis=1)\n",
    "Y = target_df\n",
    "\n",
    "Y_log = target_df.apply(np.log)\n",
    "\n",
    "Xtrn, Xtest, Ytrn, Ytest = splitTrainTest(X_n, Y_log, split_size=0.3, seed = 1000)\n",
    "trn_score, test_score, Ypred = applyLinearRegression(Xtrn, Xtest, Ytrn, Ytest)\n",
    "cv_scores = applyLinearRegressionCV(X_n, Y_log)\n",
    "\n",
    "print(\"Features considered:\")\n",
    "print(X_n.columns.values)\n",
    "\n",
    "print(\" \")\n",
    "\n",
    "print(\"Results from linear regression:\")\n",
    "print(\"R-sq on training data: \", trn_score)\n",
    "print(\"R-sq on test data: \", test_score)\n",
    "\n",
    "print(\" \")\n",
    "\n",
    "print(\"Cross validation scores:\", cv_scores)"
   ]
  },
  {
   "cell_type": "code",
   "execution_count": 29,
   "metadata": {},
   "outputs": [
    {
     "name": "stdout",
     "output_type": "stream",
     "text": [
      "Features considered:\n",
      "['OverallQual_1' 'OverallQual_10' 'OverallQual_2' 'OverallQual_3'\n",
      " 'OverallQual_4' 'OverallQual_5' 'OverallQual_6' 'OverallQual_7'\n",
      " 'OverallQual_8' 'OverallQual_9' 'OverallCond_1' 'OverallCond_2'\n",
      " 'OverallCond_3' 'OverallCond_4' 'OverallCond_5' 'OverallCond_6'\n",
      " 'OverallCond_7' 'OverallCond_8' 'OverallCond_9']\n",
      " \n",
      "Results from linear regression:\n",
      "R-sq on training data:  0.675516451031\n",
      "R-sq on test data:  -5.52303754954e+22\n",
      " \n",
      "Cross validation scores: [  6.42292282e-01   7.00337800e-01  -1.01671535e+23  -3.13547840e+23\n",
      "   6.88890180e-01   6.48981570e-01   6.99852899e-01   6.68568832e-01\n",
      "   6.39394848e-01   6.72201156e-01]\n"
     ]
    }
   ],
   "source": [
    "# Select dummy\n",
    "# Quality only\n",
    "X = dummy_df.iloc[:, 5:24]\n",
    "Y = target_df\n",
    "\n",
    "Y_log = target_df.apply(np.log)\n",
    "\n",
    "Xtrn, Xtest, Ytrn, Ytest = splitTrainTest(X, Y_log, split_size=0.3, seed = 1000)\n",
    "trn_score, test_score, Ypred = applyLinearRegression(Xtrn, Xtest, Ytrn, Ytest)\n",
    "cv_scores = applyLinearRegressionCV(X, Y_log)\n",
    "\n",
    "print(\"Features considered:\")\n",
    "print(X.columns.values)\n",
    "\n",
    "print(\" \")\n",
    "\n",
    "print(\"Results from linear regression:\")\n",
    "print(\"R-sq on training data: \", trn_score)\n",
    "print(\"R-sq on test data: \", test_score)\n",
    "\n",
    "print(\" \")\n",
    "\n",
    "print(\"Cross validation scores:\", cv_scores)"
   ]
  },
  {
   "cell_type": "markdown",
   "metadata": {},
   "source": [
    "**4C Neighborhood**"
   ]
  },
  {
   "cell_type": "code",
   "execution_count": 30,
   "metadata": {
    "scrolled": true
   },
   "outputs": [
    {
     "name": "stdout",
     "output_type": "stream",
     "text": [
      "Features considered:\n",
      "['TotLotSF' 'TotFlrSF' 'TotalBsmtSF' 'TotNumBath' 'Neighborhood_Blueste'\n",
      " 'Neighborhood_BrDale' 'Neighborhood_BrkSide' 'Neighborhood_ClearCr'\n",
      " 'Neighborhood_CollgCr' 'Neighborhood_Crawfor' 'Neighborhood_Edwards'\n",
      " 'Neighborhood_Gilbert' 'Neighborhood_IDOTRR' 'Neighborhood_MeadowV'\n",
      " 'Neighborhood_Mitchel' 'Neighborhood_NAmes' 'Neighborhood_NPkVill'\n",
      " 'Neighborhood_NWAmes' 'Neighborhood_NoRidge' 'Neighborhood_NridgHt'\n",
      " 'Neighborhood_OldTown' 'Neighborhood_SWISU' 'Neighborhood_Sawyer'\n",
      " 'Neighborhood_SawyerW' 'Neighborhood_Somerst' 'Neighborhood_StoneBr'\n",
      " 'Neighborhood_Timber' 'Neighborhood_Veenker' 'BldgType_1Fam'\n",
      " 'BldgType_2fmCon' 'BldgType_Duplex' 'BldgType_Twnhs' 'BldgType_TwnhsE']\n",
      " \n",
      "Results from linear regression:\n",
      "R-sq on training data:  0.810681788882\n",
      "R-sq on test data:  0.803002093556\n",
      " \n",
      "Cross validation scores: [ 0.84069935  0.84775421  0.84166578  0.76162024  0.80216011  0.86767673\n",
      "  0.8141308   0.82087186  0.54193323  0.78639357]\n"
     ]
    }
   ],
   "source": [
    "# apply feature standarization to num vars only\n",
    "X_num_df = num_df.iloc[:, 0:4]\n",
    "X_num_norm = featureNorm(X_num_df)\n",
    "X_num_norm_df = pd.DataFrame(X_num_norm, columns=X_num_df.columns.values)\n",
    "\n",
    "# Select dummy\n",
    "# Hood only\n",
    "\n",
    "X_n = pd.concat( (X_num_norm_df, dummy_df.iloc[:, 25:]), axis=1)\n",
    "Y = target_df\n",
    "\n",
    "Y_log = target_df.apply(np.log)\n",
    "\n",
    "Xtrn, Xtest, Ytrn, Ytest = splitTrainTest(X_n, Y_log, split_size=0.3, seed = 1000)\n",
    "trn_score, test_score, Ypred = applyLinearRegression(Xtrn, Xtest, Ytrn, Ytest)\n",
    "cv_scores = applyLinearRegressionCV(X_n, Y_log)\n",
    "\n",
    "print(\"Features considered:\")\n",
    "print(X_n.columns.values)\n",
    "\n",
    "print(\" \")\n",
    "\n",
    "print(\"Results from linear regression:\")\n",
    "print(\"R-sq on training data: \", trn_score)\n",
    "print(\"R-sq on test data: \", test_score)\n",
    "\n",
    "print(\" \")\n",
    "\n",
    "print(\"Cross validation scores:\", cv_scores)"
   ]
  },
  {
   "cell_type": "code",
   "execution_count": 31,
   "metadata": {},
   "outputs": [
    {
     "name": "stdout",
     "output_type": "stream",
     "text": [
      "Features considered:\n",
      "['Neighborhood_Blueste' 'Neighborhood_BrDale' 'Neighborhood_BrkSide'\n",
      " 'Neighborhood_ClearCr' 'Neighborhood_CollgCr' 'Neighborhood_Crawfor'\n",
      " 'Neighborhood_Edwards' 'Neighborhood_Gilbert' 'Neighborhood_IDOTRR'\n",
      " 'Neighborhood_MeadowV' 'Neighborhood_Mitchel' 'Neighborhood_NAmes'\n",
      " 'Neighborhood_NPkVill' 'Neighborhood_NWAmes' 'Neighborhood_NoRidge'\n",
      " 'Neighborhood_NridgHt' 'Neighborhood_OldTown' 'Neighborhood_SWISU'\n",
      " 'Neighborhood_Sawyer' 'Neighborhood_SawyerW' 'Neighborhood_Somerst'\n",
      " 'Neighborhood_StoneBr' 'Neighborhood_Timber' 'Neighborhood_Veenker'\n",
      " 'BldgType_1Fam' 'BldgType_2fmCon' 'BldgType_Duplex' 'BldgType_Twnhs'\n",
      " 'BldgType_TwnhsE']\n",
      " \n",
      "Results from linear regression:\n",
      "R-sq on training data:  0.601646017962\n",
      "R-sq on test data:  0.558886169314\n",
      " \n",
      "Cross validation scores: [ 0.61664976  0.56864428  0.57988628  0.5745525   0.57034543  0.63581541\n",
      "  0.56015135  0.57332668  0.58309534  0.52675521]\n"
     ]
    }
   ],
   "source": [
    "# Select dummy\n",
    "# Hood only\n",
    "X = dummy_df.iloc[:, 25:]\n",
    "Y = target_df\n",
    "\n",
    "Y_log = target_df.apply(np.log)\n",
    "\n",
    "Xtrn, Xtest, Ytrn, Ytest = splitTrainTest(X, Y_log, split_size=0.3, seed = 1000)\n",
    "trn_score, test_score, Ypred = applyLinearRegression(Xtrn, Xtest, Ytrn, Ytest)\n",
    "cv_scores = applyLinearRegressionCV(X, Y_log)\n",
    "\n",
    "print(\"Features considered:\")\n",
    "print(X.columns.values)\n",
    "\n",
    "print(\" \")\n",
    "\n",
    "print(\"Results from linear regression:\")\n",
    "print(\"R-sq on training data: \", trn_score)\n",
    "print(\"R-sq on test data: \", test_score)\n",
    "\n",
    "print(\" \")\n",
    "\n",
    "print(\"Cross validation scores:\", cv_scores)"
   ]
  },
  {
   "cell_type": "markdown",
   "metadata": {},
   "source": [
    "## 5 Removing outliers\n",
    "Based on z-scores of log(SalesPrice)"
   ]
  },
  {
   "cell_type": "code",
   "execution_count": 32,
   "metadata": {},
   "outputs": [
    {
     "data": {
      "text/plain": [
       "28"
      ]
     },
     "execution_count": 32,
     "metadata": {},
     "output_type": "execute_result"
    }
   ],
   "source": [
    "Y_df = pd.DataFrame()\n",
    "Y_df['SalePrice'] = trn['SalePrice']\n",
    "Y_df['LogSalePrice'] = Y_df['SalePrice'].apply(np.log)\n",
    "\n",
    "f = Y_df['LogSalePrice'].tolist()\n",
    "z = zscore(f)\n",
    "Y_df['LogSalePrice_zscr'] = z\n",
    "\n",
    "\n",
    "z_thresh = 2.5  # 99% confidence interval\n",
    "drop_indices = list(np.where(Y_df['LogSalePrice_zscr']<=-z_thresh)[0]) + list(np.where(Y_df['LogSalePrice_zscr']>=z_thresh)[0])\n",
    "len(drop_indices)"
   ]
  },
  {
   "cell_type": "code",
   "execution_count": 33,
   "metadata": {},
   "outputs": [
    {
     "data": {
      "text/html": [
       "<div>\n",
       "<table border=\"1\" class=\"dataframe\">\n",
       "  <thead>\n",
       "    <tr style=\"text-align: right;\">\n",
       "      <th></th>\n",
       "      <th>SalePrice</th>\n",
       "      <th>LogSalePrice</th>\n",
       "      <th>LogSalePrice_zscr</th>\n",
       "    </tr>\n",
       "  </thead>\n",
       "  <tbody>\n",
       "    <tr>\n",
       "      <th>30</th>\n",
       "      <td>40000</td>\n",
       "      <td>10.596635</td>\n",
       "      <td>-3.574662</td>\n",
       "    </tr>\n",
       "    <tr>\n",
       "      <th>375</th>\n",
       "      <td>61000</td>\n",
       "      <td>11.018629</td>\n",
       "      <td>-2.517866</td>\n",
       "    </tr>\n",
       "    <tr>\n",
       "      <th>410</th>\n",
       "      <td>60000</td>\n",
       "      <td>11.002100</td>\n",
       "      <td>-2.559260</td>\n",
       "    </tr>\n",
       "    <tr>\n",
       "      <th>495</th>\n",
       "      <td>34900</td>\n",
       "      <td>10.460242</td>\n",
       "      <td>-3.916228</td>\n",
       "    </tr>\n",
       "    <tr>\n",
       "      <th>533</th>\n",
       "      <td>39300</td>\n",
       "      <td>10.578980</td>\n",
       "      <td>-3.618875</td>\n",
       "    </tr>\n",
       "    <tr>\n",
       "      <th>636</th>\n",
       "      <td>60000</td>\n",
       "      <td>11.002100</td>\n",
       "      <td>-2.559260</td>\n",
       "    </tr>\n",
       "    <tr>\n",
       "      <th>705</th>\n",
       "      <td>55000</td>\n",
       "      <td>10.915088</td>\n",
       "      <td>-2.777162</td>\n",
       "    </tr>\n",
       "    <tr>\n",
       "      <th>710</th>\n",
       "      <td>52000</td>\n",
       "      <td>10.858999</td>\n",
       "      <td>-2.917626</td>\n",
       "    </tr>\n",
       "    <tr>\n",
       "      <th>812</th>\n",
       "      <td>55993</td>\n",
       "      <td>10.932982</td>\n",
       "      <td>-2.732351</td>\n",
       "    </tr>\n",
       "    <tr>\n",
       "      <th>916</th>\n",
       "      <td>35311</td>\n",
       "      <td>10.471950</td>\n",
       "      <td>-3.886909</td>\n",
       "    </tr>\n",
       "    <tr>\n",
       "      <th>968</th>\n",
       "      <td>37900</td>\n",
       "      <td>10.542706</td>\n",
       "      <td>-3.709714</td>\n",
       "    </tr>\n",
       "    <tr>\n",
       "      <th>1100</th>\n",
       "      <td>60000</td>\n",
       "      <td>11.002100</td>\n",
       "      <td>-2.559260</td>\n",
       "    </tr>\n",
       "    <tr>\n",
       "      <th>1325</th>\n",
       "      <td>55000</td>\n",
       "      <td>10.915088</td>\n",
       "      <td>-2.777162</td>\n",
       "    </tr>\n",
       "    <tr>\n",
       "      <th>1337</th>\n",
       "      <td>52500</td>\n",
       "      <td>10.868568</td>\n",
       "      <td>-2.893661</td>\n",
       "    </tr>\n",
       "    <tr>\n",
       "      <th>1380</th>\n",
       "      <td>58500</td>\n",
       "      <td>10.976782</td>\n",
       "      <td>-2.622663</td>\n",
       "    </tr>\n",
       "    <tr>\n",
       "      <th>178</th>\n",
       "      <td>501837</td>\n",
       "      <td>13.126031</td>\n",
       "      <td>2.759675</td>\n",
       "    </tr>\n",
       "    <tr>\n",
       "      <th>185</th>\n",
       "      <td>475000</td>\n",
       "      <td>13.071070</td>\n",
       "      <td>2.622038</td>\n",
       "    </tr>\n",
       "    <tr>\n",
       "      <th>440</th>\n",
       "      <td>555000</td>\n",
       "      <td>13.226723</td>\n",
       "      <td>3.011839</td>\n",
       "    </tr>\n",
       "    <tr>\n",
       "      <th>691</th>\n",
       "      <td>755000</td>\n",
       "      <td>13.534473</td>\n",
       "      <td>3.782532</td>\n",
       "    </tr>\n",
       "    <tr>\n",
       "      <th>769</th>\n",
       "      <td>538000</td>\n",
       "      <td>13.195614</td>\n",
       "      <td>2.933931</td>\n",
       "    </tr>\n",
       "    <tr>\n",
       "      <th>798</th>\n",
       "      <td>485000</td>\n",
       "      <td>13.091904</td>\n",
       "      <td>2.674212</td>\n",
       "    </tr>\n",
       "    <tr>\n",
       "      <th>803</th>\n",
       "      <td>582933</td>\n",
       "      <td>13.275828</td>\n",
       "      <td>3.134810</td>\n",
       "    </tr>\n",
       "    <tr>\n",
       "      <th>898</th>\n",
       "      <td>611657</td>\n",
       "      <td>13.323927</td>\n",
       "      <td>3.255264</td>\n",
       "    </tr>\n",
       "    <tr>\n",
       "      <th>1046</th>\n",
       "      <td>556581</td>\n",
       "      <td>13.229568</td>\n",
       "      <td>3.018962</td>\n",
       "    </tr>\n",
       "    <tr>\n",
       "      <th>1169</th>\n",
       "      <td>625000</td>\n",
       "      <td>13.345507</td>\n",
       "      <td>3.309307</td>\n",
       "    </tr>\n",
       "    <tr>\n",
       "      <th>1182</th>\n",
       "      <td>745000</td>\n",
       "      <td>13.521139</td>\n",
       "      <td>3.749141</td>\n",
       "    </tr>\n",
       "    <tr>\n",
       "      <th>1243</th>\n",
       "      <td>465000</td>\n",
       "      <td>13.049793</td>\n",
       "      <td>2.568753</td>\n",
       "    </tr>\n",
       "    <tr>\n",
       "      <th>1373</th>\n",
       "      <td>466500</td>\n",
       "      <td>13.053013</td>\n",
       "      <td>2.576818</td>\n",
       "    </tr>\n",
       "  </tbody>\n",
       "</table>\n",
       "</div>"
      ],
      "text/plain": [
       "      SalePrice  LogSalePrice  LogSalePrice_zscr\n",
       "30        40000     10.596635          -3.574662\n",
       "375       61000     11.018629          -2.517866\n",
       "410       60000     11.002100          -2.559260\n",
       "495       34900     10.460242          -3.916228\n",
       "533       39300     10.578980          -3.618875\n",
       "636       60000     11.002100          -2.559260\n",
       "705       55000     10.915088          -2.777162\n",
       "710       52000     10.858999          -2.917626\n",
       "812       55993     10.932982          -2.732351\n",
       "916       35311     10.471950          -3.886909\n",
       "968       37900     10.542706          -3.709714\n",
       "1100      60000     11.002100          -2.559260\n",
       "1325      55000     10.915088          -2.777162\n",
       "1337      52500     10.868568          -2.893661\n",
       "1380      58500     10.976782          -2.622663\n",
       "178      501837     13.126031           2.759675\n",
       "185      475000     13.071070           2.622038\n",
       "440      555000     13.226723           3.011839\n",
       "691      755000     13.534473           3.782532\n",
       "769      538000     13.195614           2.933931\n",
       "798      485000     13.091904           2.674212\n",
       "803      582933     13.275828           3.134810\n",
       "898      611657     13.323927           3.255264\n",
       "1046     556581     13.229568           3.018962\n",
       "1169     625000     13.345507           3.309307\n",
       "1182     745000     13.521139           3.749141\n",
       "1243     465000     13.049793           2.568753\n",
       "1373     466500     13.053013           2.576818"
      ]
     },
     "execution_count": 33,
     "metadata": {},
     "output_type": "execute_result"
    }
   ],
   "source": [
    "Y_df.iloc[drop_indices]"
   ]
  },
  {
   "cell_type": "markdown",
   "metadata": {},
   "source": [
    " **Load Data**"
   ]
  },
  {
   "cell_type": "code",
   "execution_count": 34,
   "metadata": {
    "collapsed": true
   },
   "outputs": [],
   "source": [
    "trn = pd.read_csv(DIR.DATA_IN+\"train.csv\")\n",
    "num_df, ctg_df, dummy_df = FS.combineFeatures_01(trn)\n",
    "target_df = trn['SalePrice']"
   ]
  },
  {
   "cell_type": "markdown",
   "metadata": {},
   "source": [
    "**5A Before droping outliers**"
   ]
  },
  {
   "cell_type": "code",
   "execution_count": 35,
   "metadata": {},
   "outputs": [
    {
     "name": "stdout",
     "output_type": "stream",
     "text": [
      "Results from linear regression:\n",
      "R-sq on training data:  0.884722390154\n",
      "R-sq on test data:  -8.68686187073e+18\n",
      " \n",
      "Cross validation scores: [  8.74300666e-01   9.15787626e-01  -3.91827308e+21  -5.43736777e+22\n",
      "   8.71830605e-01   8.95516152e-01   8.86026079e-01   8.92535499e-01\n",
      "   7.08535357e-01   8.38026335e-01]\n"
     ]
    }
   ],
   "source": [
    "X_num_df = num_df.iloc[:, 0:4]\n",
    "X_num_norm = featureNorm(X_num_df)\n",
    "X_num_norm_df = pd.DataFrame(X_num_norm, columns=X_num_df.columns.values)\n",
    "\n",
    "XX = pd.concat( (X_num_norm_df, ctg_df, dummy_df), axis=1)\n",
    "YY = target_df\n",
    "YY_log = target_df.apply(np.log)\n",
    "\n",
    "Xtrn, Xtest, Ytrn, Ytest = splitTrainTest(XX, YY_log, split_size=0.3, seed = 1000)\n",
    "trn_score, test_score, Ypred = applyLinearRegression(Xtrn, Xtest, Ytrn, Ytest)\n",
    "cv_scores = applyLinearRegressionCV(XX, YY_log)\n",
    "\n",
    "print(\"Results from linear regression:\")\n",
    "print(\"R-sq on training data: \", trn_score)\n",
    "print(\"R-sq on test data: \", test_score)\n",
    "\n",
    "print(\" \")\n",
    "\n",
    "print(\"Cross validation scores:\", cv_scores) "
   ]
  },
  {
   "cell_type": "markdown",
   "metadata": {},
   "source": [
    "**5B After dropping outliers**"
   ]
  },
  {
   "cell_type": "code",
   "execution_count": 36,
   "metadata": {},
   "outputs": [
    {
     "name": "stdout",
     "output_type": "stream",
     "text": [
      "Results from linear regression:\n",
      "R-sq on training data:  0.82832834683\n",
      "R-sq on test data:  0.824022606834\n",
      " \n",
      "Cross validation scores: [ 0.89372044  0.91803924  0.91975526  0.81905128  0.84914478  0.87690397\n",
      "  0.8775408   0.88345244  0.64482643  0.81591674]\n"
     ]
    }
   ],
   "source": [
    "X_num_df = num_df.iloc[:, 0:4]\n",
    "X_num_norm = featureNorm(X_num_df)\n",
    "X_num_norm_df = pd.DataFrame(X_num_norm, columns=X_num_df.columns.values)\n",
    "\n",
    "XX = pd.concat( (X_num_norm_df, ctg_df, dummy_df), axis=1)\n",
    "YY = target_df\n",
    "YY_log = target_df.apply(np.log)\n",
    "\n",
    "X = XX.drop(XX.index[drop_indices])\n",
    "Y_log = YY_log.drop(YY_log.index[drop_indices])\n",
    "\n",
    "Xtrn, Xtest, Ytrn, Ytest = splitTrainTest(X, Y_log, split_size=0.3, seed = 1000)\n",
    "trn_score, test_score, Ypred = applyLinearRegression(Xtrn, Xtest, Ytrn, Ytest)\n",
    "cv_scores = applyLinearRegressionCV(X, Y_log)\n",
    "\n",
    "print(\"Results from linear regression:\")\n",
    "print(\"R-sq on training data: \", trn_score)\n",
    "print(\"R-sq on test data: \", test_score)\n",
    "\n",
    "print(\" \")\n",
    "\n",
    "print(\"Cross validation scores:\", cv_scores) "
   ]
  },
  {
   "cell_type": "markdown",
   "metadata": {},
   "source": [
    "# Plots"
   ]
  },
  {
   "cell_type": "markdown",
   "metadata": {},
   "source": [
    "**5 B**"
   ]
  },
  {
   "cell_type": "code",
   "execution_count": 49,
   "metadata": {},
   "outputs": [
    {
     "data": {
      "text/plain": [
       "(0.87956176867138458, 0.86810554963774211)"
      ]
     },
     "execution_count": 49,
     "metadata": {},
     "output_type": "execute_result"
    }
   ],
   "source": [
    "trn = pd.read_csv(DIR.DATA_IN+\"train.csv\")\n",
    "num_df, ctg_df, dummy_df = FS.combineFeatures_01(trn)\n",
    "target_df = trn['SalePrice']\n",
    "\n",
    "X_num_df = num_df.iloc[:, 0:4]\n",
    "X_num_norm = featureNorm(X_num_df)\n",
    "X_num_norm_df = pd.DataFrame(X_num_norm, columns=X_num_df.columns.values)\n",
    "\n",
    "XX = pd.concat( (X_num_norm_df, ctg_df, dummy_df), axis=1)\n",
    "YY = target_df\n",
    "YY_log = target_df.apply(np.log)\n",
    "\n",
    "X = XX.drop(XX.index[drop_indices])\n",
    "Y_log = YY_log.drop(YY_log.index[drop_indices])\n",
    "\n",
    "Xtrn, Xtest, Ytrn, Ytest = splitTrainTest(X, Y_log, split_size=0.3, seed = 999)\n",
    "trn_score, test_score, Ypred = applyLinearRegression(Xtrn, Xtest, Ytrn, Ytest)\n",
    "trn_score, test_score"
   ]
  },
  {
   "cell_type": "code",
   "execution_count": 50,
   "metadata": {},
   "outputs": [
    {
     "data": {
      "image/png": "[encoded data removed]",
      "text/plain": [
       "<matplotlib.figure.Figure at 0x11a62cd30>"
      ]
     },
     "metadata": {},
     "output_type": "display_data"
    }
   ],
   "source": [
    "plt.scatter(Ytest, Ypred)\n",
    "plt.xlabel(\"Observed Sale Price [log]\")\n",
    "plt.ylabel(\"Predicted Sale Price [log]\")\n",
    "plt.plot([10.5, 13.5], [10.5, 13.5], c = \"red\")\n",
    "plt.show()"
   ]
  },
  {
   "cell_type": "code",
   "execution_count": 53,
   "metadata": {},
   "outputs": [
    {
     "data": {
      "image/png": "[encoded data removed]",
      "text/plain": [
       "<matplotlib.figure.Figure at 0x117bb2e48>"
      ]
     },
     "metadata": {},
     "output_type": "display_data"
    }
   ],
   "source": [
    "plt.scatter(Ytest, Ypred-Ytest)\n",
    "plt.xlabel(\"Observed Sale Price [log]\")\n",
    "plt.ylabel(\"Error [log]\")\n",
    "plt.hlines(y = 0, xmin = 10.5, xmax = 13.5, color = \"red\")\n",
    "plt.show()"
   ]
  },
  {
   "cell_type": "code",
   "execution_count": null,
   "metadata": {
    "collapsed": true
   },
   "outputs": [],
   "source": []
  }
 ],
 "metadata": {
  "kernelspec": {
   "display_name": "Python 3",
   "language": "python",
   "name": "python3"
  },
  "language_info": {
   "codemirror_mode": {
    "name": "ipython",
    "version": 3
   },
   "file_extension": ".py",
   "mimetype": "text/x-python",
   "name": "python",
   "nbconvert_exporter": "python",
   "pygments_lexer": "ipython3",
   "version": "3.6.0"
  },
  "latex_envs": {
   "LaTeX_envs_menu_present": true,
   "autocomplete": true,
   "bibliofile": "biblio.bib",
   "cite_by": "apalike",
   "current_citInitial": 1,
   "eqLabelWithNumbers": true,
   "eqNumInitial": 1,
   "hotkeys": {
    "equation": "Ctrl-E",
    "itemize": "Ctrl-I"
   },
   "labels_anchors": false,
   "latex_user_defs": false,
   "report_style_numbering": false,
   "user_envs_cfg": false
  }
 },
 "nbformat": 4,
 "nbformat_minor": 2
}
