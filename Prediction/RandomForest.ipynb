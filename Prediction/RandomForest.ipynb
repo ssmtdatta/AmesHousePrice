{
 "cells": [
  {
   "cell_type": "markdown",
   "metadata": {},
   "source": [
    "### Imports, Directory and Path"
   ]
  },
  {
   "cell_type": "code",
   "execution_count": 1,
   "metadata": {
    "collapsed": true
   },
   "outputs": [],
   "source": [
    "import os\n",
    "from os import path\n",
    "import sys\n",
    "import time\n",
    "\n",
    "import numpy as np\n",
    "import pandas as pd\n",
    "from scipy.stats.mstats import zscore\n",
    "\n",
    "import matplotlib.pyplot as plt\n",
    "% matplotlib inline"
   ]
  },
  {
   "cell_type": "code",
   "execution_count": 2,
   "metadata": {
    "collapsed": true
   },
   "outputs": [],
   "source": [
    "BASE_DIR = \"../AmesHousing/\"\n",
    "sys.path.append(path.abspath(BASE_DIR+'SupportModule/'))\n",
    "\n",
    "import lookup_dir_names as DIR\n",
    "import fnc_featureSelection as FS"
   ]
  },
  {
   "cell_type": "code",
   "execution_count": 4,
   "metadata": {
    "collapsed": true
   },
   "outputs": [],
   "source": [
    "from sklearn.model_selection import train_test_split\n",
    "from sklearn.preprocessing import StandardScaler\n",
    "\n",
    "from sklearn.ensemble import RandomForestRegressor\n",
    "from sklearn.metrics import r2_score\n",
    "\n",
    "from sklearn.model_selection import cross_val_score\n",
    "from sklearn.metrics import make_scorer, mean_squared_error\n",
    "scorer = make_scorer(mean_squared_error, False)"
   ]
  },
  {
   "cell_type": "markdown",
   "metadata": {},
   "source": [
    "# RF/Modeling"
   ]
  },
  {
   "cell_type": "code",
   "execution_count": 32,
   "metadata": {
    "collapsed": true
   },
   "outputs": [],
   "source": [
    "def featureNorm(Features):\n",
    "    featnorm = StandardScaler()\n",
    "    normFeatures = featnorm.fit_transform(Features)\n",
    "    return normFeatures\n",
    "    \n",
    "def splitTrainTest(X, Y, split_size=0.3, seed=np.random.seed()):\n",
    "    Xtrn, Xtest, Ytrn, Ytest = train_test_split(X, Y, test_size=split_size, random_state=seed)\n",
    "    return Xtrn, Xtest, Ytrn, Ytest\n",
    "\n",
    "def applyRandomForest(Xtrn, Xtest, Ytrn, Ytest, n_est=100):\n",
    "    rf = RandomForestRegressor(n_estimators=n_est, criterion='mse', max_depth=None, min_samples_split=10, \n",
    "                          min_samples_leaf=2, min_weight_fraction_leaf=0.0, max_features='auto', \n",
    "                          max_leaf_nodes=None, bootstrap=True, n_jobs=-1)\n",
    "\n",
    "    rf.fit(Xtrn, Ytrn)\n",
    "    feature_importance = rf.feature_importances_\n",
    "    \n",
    "    Ypred = rf.predict(Xtest)\n",
    "    score = r2_score(Ytest, Ypred, sample_weight=None, multioutput='uniform_average')\n",
    "    \n",
    "    \n",
    "    return feature_importance, score, Ypred"
   ]
  },
  {
   "cell_type": "markdown",
   "metadata": {},
   "source": [
    "### Feature importance"
   ]
  },
  {
   "cell_type": "markdown",
   "metadata": {},
   "source": [
    "**Numerical training data**"
   ]
  },
  {
   "cell_type": "code",
   "execution_count": 18,
   "metadata": {},
   "outputs": [
    {
     "data": {
      "text/plain": [
       "array(['LotArea', 'LotFrontage', '1stFlrSF', '2ndFlrSF', 'LowQualFinSF',\n",
       "       'GrLivArea', 'BsmtFinSF1', 'BsmtFinSF2', 'BsmtUnfSF', 'TotalBsmtSF',\n",
       "       'BsmtFullBath', 'BsmtHalfBath', 'FullBath', 'HalfBath',\n",
       "       'GarageArea', 'GarageCars', 'WoodDeckSF', 'OpenPorchSF',\n",
       "       'EnclosedPorch', '3SsnPorch', 'ScreenPorch', 'PoolArea',\n",
       "       'Fireplaces', 'YearBuilt', 'YearRemodAdd'], dtype=object)"
      ]
     },
     "execution_count": 18,
     "metadata": {},
     "output_type": "execute_result"
    }
   ],
   "source": [
    "trn = pd.read_csv(DIR.DATA_IN+\"train.csv\")\n",
    "trn_num = FS.combineFeatures_02(trn) \n",
    "trn_num.columns.values"
   ]
  },
  {
   "cell_type": "code",
   "execution_count": 19,
   "metadata": {},
   "outputs": [
    {
     "data": {
      "text/plain": [
       "GrLivArea        0.344724\n",
       "YearBuilt        0.253801\n",
       "GarageCars       0.087971\n",
       "TotalBsmtSF      0.075379\n",
       "GarageArea       0.049241\n",
       "1stFlrSF         0.031602\n",
       "YearRemodAdd     0.031101\n",
       "Fireplaces       0.028072\n",
       "BsmtFinSF1       0.025000\n",
       "LotArea          0.024417\n",
       "BsmtUnfSF        0.010282\n",
       "2ndFlrSF         0.009958\n",
       "LotFrontage      0.007282\n",
       "OpenPorchSF      0.006540\n",
       "WoodDeckSF       0.003991\n",
       "HalfBath         0.002405\n",
       "EnclosedPorch    0.002333\n",
       "BsmtFullBath     0.001583\n",
       "BsmtFinSF2       0.001511\n",
       "FullBath         0.001346\n",
       "ScreenPorch      0.000760\n",
       "BsmtHalfBath     0.000246\n",
       "LowQualFinSF     0.000215\n",
       "3SsnPorch        0.000151\n",
       "PoolArea         0.000089\n",
       "dtype: float64"
      ]
     },
     "execution_count": 19,
     "metadata": {},
     "output_type": "execute_result"
    }
   ],
   "source": [
    "clf = RandomForestRegressor(n_estimators=100, criterion='mse', max_depth=None, min_samples_split=10, \n",
    "                          min_samples_leaf=2, min_weight_fraction_leaf=0.0, max_features='auto', \n",
    "                          max_leaf_nodes=None, bootstrap=True, n_jobs=-1)\n",
    "\n",
    "clf.fit(trn_num, trn['SalePrice'].apply(np.log))\n",
    "feature_importance = clf.feature_importances_\n",
    "\n",
    "# Output feature importance coefficients, map them to their feature name, and sort values\n",
    "coef = pd.Series(feature_importance, index = trn_num.columns).sort_values(ascending=False)\n",
    "coef"
   ]
  },
  {
   "cell_type": "markdown",
   "metadata": {},
   "source": [
    "**Numerical features combined to create new features**"
   ]
  },
  {
   "cell_type": "code",
   "execution_count": 22,
   "metadata": {},
   "outputs": [
    {
     "data": {
      "text/plain": [
       "array(['TotLotSF', 'TotFlrSF', 'TotalBsmtSF', 'TotNumBath', 'GarageArea',\n",
       "       'PorchArea', 'PoolArea'], dtype=object)"
      ]
     },
     "execution_count": 22,
     "metadata": {},
     "output_type": "execute_result"
    }
   ],
   "source": [
    "trn = pd.read_csv(DIR.DATA_IN+\"train.csv\")\n",
    "num_df, ctg_df, dummy_df = FS.combineFeatures_01(trn)\n",
    "num_df.columns.values"
   ]
  },
  {
   "cell_type": "code",
   "execution_count": 23,
   "metadata": {},
   "outputs": [
    {
     "data": {
      "text/plain": [
       "TotFlrSF       0.486285\n",
       "GarageArea     0.199307\n",
       "TotalBsmtSF    0.176208\n",
       "TotNumBath     0.073506\n",
       "TotLotSF       0.033766\n",
       "PorchArea      0.030915\n",
       "PoolArea       0.000014\n",
       "dtype: float64"
      ]
     },
     "execution_count": 23,
     "metadata": {},
     "output_type": "execute_result"
    }
   ],
   "source": [
    "clf = RandomForestRegressor(n_estimators=100, criterion='mse', max_depth=None, min_samples_split=10, \n",
    "                          min_samples_leaf=2, min_weight_fraction_leaf=0.0, max_features='auto', \n",
    "                          max_leaf_nodes=None, bootstrap=True, n_jobs=-1)\n",
    "\n",
    "clf.fit(num_df, trn['SalePrice'].apply(np.log))\n",
    "feature_importance = clf.feature_importances_\n",
    "\n",
    "# Output feature importance coefficients, map them to their feature name, and sort values\n",
    "coef = pd.Series(feature_importance, index = num_df.columns).sort_values(ascending=False)\n",
    "coef"
   ]
  },
  {
   "cell_type": "markdown",
   "metadata": {},
   "source": [
    "### RF"
   ]
  },
  {
   "cell_type": "markdown",
   "metadata": {},
   "source": [
    "### Training data \n",
    "Select features and perform feature engineering according to `fnc_featureSelection`"
   ]
  },
  {
   "cell_type": "code",
   "execution_count": 24,
   "metadata": {},
   "outputs": [
    {
     "name": "stdout",
     "output_type": "stream",
     "text": [
      "(1460, 7)\n",
      "(1460, 5)\n",
      "(1460, 54)\n",
      "(1460,)\n"
     ]
    }
   ],
   "source": [
    "trn = pd.read_csv(DIR.DATA_IN+\"train.csv\")\n",
    "num_df, ctg_df, dummy_df = FS.combineFeatures_01(trn)\n",
    "target_df = trn['SalePrice']\n",
    "\n",
    "print(num_df.shape)\n",
    "print(ctg_df.shape)\n",
    "print(dummy_df.shape)\n",
    "print(target_df.shape)"
   ]
  },
  {
   "cell_type": "markdown",
   "metadata": {},
   "source": [
    "**Column names**"
   ]
  },
  {
   "cell_type": "code",
   "execution_count": 25,
   "metadata": {},
   "outputs": [
    {
     "data": {
      "text/plain": [
       "array(['Id', 'MSSubClass', 'MSZoning', 'LotFrontage', 'LotArea', 'Street',\n",
       "       'Alley', 'LotShape', 'LandContour', 'Utilities', 'LotConfig',\n",
       "       'LandSlope', 'Neighborhood', 'Condition1', 'Condition2', 'BldgType',\n",
       "       'HouseStyle', 'OverallQual', 'OverallCond', 'YearBuilt',\n",
       "       'YearRemodAdd', 'RoofStyle', 'RoofMatl', 'Exterior1st',\n",
       "       'Exterior2nd', 'MasVnrType', 'MasVnrArea', 'ExterQual', 'ExterCond',\n",
       "       'Foundation', 'BsmtQual', 'BsmtCond', 'BsmtExposure',\n",
       "       'BsmtFinType1', 'BsmtFinSF1', 'BsmtFinType2', 'BsmtFinSF2',\n",
       "       'BsmtUnfSF', 'TotalBsmtSF', 'Heating', 'HeatingQC', 'CentralAir',\n",
       "       'Electrical', '1stFlrSF', '2ndFlrSF', 'LowQualFinSF', 'GrLivArea',\n",
       "       'BsmtFullBath', 'BsmtHalfBath', 'FullBath', 'HalfBath',\n",
       "       'BedroomAbvGr', 'KitchenAbvGr', 'KitchenQual', 'TotRmsAbvGrd',\n",
       "       'Functional', 'Fireplaces', 'FireplaceQu', 'GarageType',\n",
       "       'GarageYrBlt', 'GarageFinish', 'GarageCars', 'GarageArea',\n",
       "       'GarageQual', 'GarageCond', 'PavedDrive', 'WoodDeckSF',\n",
       "       'OpenPorchSF', 'EnclosedPorch', '3SsnPorch', 'ScreenPorch',\n",
       "       'PoolArea', 'PoolQC', 'Fence', 'MiscFeature', 'MiscVal', 'MoSold',\n",
       "       'YrSold', 'SaleType', 'SaleCondition', 'SalePrice'], dtype=object)"
      ]
     },
     "execution_count": 25,
     "metadata": {},
     "output_type": "execute_result"
    }
   ],
   "source": [
    "trn.columns.values"
   ]
  },
  {
   "cell_type": "code",
   "execution_count": 26,
   "metadata": {},
   "outputs": [
    {
     "data": {
      "text/plain": [
       "array(['TotLotSF', 'TotFlrSF', 'TotalBsmtSF', 'TotNumBath', 'GarageArea',\n",
       "       'PorchArea', 'PoolArea'], dtype=object)"
      ]
     },
     "execution_count": 26,
     "metadata": {},
     "output_type": "execute_result"
    }
   ],
   "source": [
    "num_df.columns.values"
   ]
  },
  {
   "cell_type": "code",
   "execution_count": 27,
   "metadata": {},
   "outputs": [
    {
     "data": {
      "text/plain": [
       "array(['Year', 'isGarage', 'isFireplace', 'isPorch', 'isPool'], dtype=object)"
      ]
     },
     "execution_count": 27,
     "metadata": {},
     "output_type": "execute_result"
    }
   ],
   "source": [
    "ctg_df.columns.values"
   ]
  },
  {
   "cell_type": "code",
   "execution_count": 28,
   "metadata": {},
   "outputs": [
    {
     "data": {
      "text/plain": [
       "array(['GarageCars_0', 'GarageCars_1', 'GarageCars_2', 'GarageCars_3',\n",
       "       'GarageCars_4', 'OverallQual_1', 'OverallQual_10', 'OverallQual_2',\n",
       "       'OverallQual_3', 'OverallQual_4', 'OverallQual_5', 'OverallQual_6',\n",
       "       'OverallQual_7', 'OverallQual_8', 'OverallQual_9', 'OverallCond_1',\n",
       "       'OverallCond_2', 'OverallCond_3', 'OverallCond_4', 'OverallCond_5',\n",
       "       'OverallCond_6', 'OverallCond_7', 'OverallCond_8', 'OverallCond_9',\n",
       "       'Neighborhood_Blmngtn', 'Neighborhood_Blueste',\n",
       "       'Neighborhood_BrDale', 'Neighborhood_BrkSide',\n",
       "       'Neighborhood_ClearCr', 'Neighborhood_CollgCr',\n",
       "       'Neighborhood_Crawfor', 'Neighborhood_Edwards',\n",
       "       'Neighborhood_Gilbert', 'Neighborhood_IDOTRR',\n",
       "       'Neighborhood_MeadowV', 'Neighborhood_Mitchel',\n",
       "       'Neighborhood_NAmes', 'Neighborhood_NPkVill', 'Neighborhood_NWAmes',\n",
       "       'Neighborhood_NoRidge', 'Neighborhood_NridgHt',\n",
       "       'Neighborhood_OldTown', 'Neighborhood_SWISU', 'Neighborhood_Sawyer',\n",
       "       'Neighborhood_SawyerW', 'Neighborhood_Somerst',\n",
       "       'Neighborhood_StoneBr', 'Neighborhood_Timber',\n",
       "       'Neighborhood_Veenker', 'BldgType_1Fam', 'BldgType_2fmCon',\n",
       "       'BldgType_Duplex', 'BldgType_Twnhs', 'BldgType_TwnhsE'], dtype=object)"
      ]
     },
     "execution_count": 28,
     "metadata": {},
     "output_type": "execute_result"
    }
   ],
   "source": [
    "dummy_df.columns.values"
   ]
  },
  {
   "cell_type": "markdown",
   "metadata": {},
   "source": [
    "### 1"
   ]
  },
  {
   "cell_type": "code",
   "execution_count": 34,
   "metadata": {
    "collapsed": true
   },
   "outputs": [],
   "source": [
    "df = pd.concat((num_df, ctg_df, dummy_df), axis=1)\n",
    "# df['OverallQual'] =  trn['OverallQual']\n",
    "# df['OverallCond'] = trn['OverallCond']\n",
    "# df['Neighborhood'] = trn['Neighborhood']"
   ]
  },
  {
   "cell_type": "code",
   "execution_count": 35,
   "metadata": {},
   "outputs": [
    {
     "name": "stdout",
     "output_type": "stream",
     "text": [
      "0.877967057967\n"
     ]
    }
   ],
   "source": [
    "X = df\n",
    "Y_log = trn['SalePrice'].apply(np.log)\n",
    "Xtrn, Xtest, Ytrn, Ytest = splitTrainTest(X, Y_log, split_size=0.3)\n",
    "\n",
    "feature_importance, score, Ypred =  applyRandomForest(Xtrn, Xtest, Ytrn, Ytest,  n_est=100)\n",
    "\n",
    "print(score)"
   ]
  },
  {
   "cell_type": "code",
   "execution_count": 36,
   "metadata": {},
   "outputs": [
    {
     "data": {
      "image/png": "[encoded data removed]",
      "text/plain": [
       "<matplotlib.figure.Figure at 0x11755f748>"
      ]
     },
     "metadata": {},
     "output_type": "display_data"
    }
   ],
   "source": [
    "plt.scatter(Ytest, Ypred)\n",
    "plt.xlabel(\"Observed Sale Price [log]\")\n",
    "plt.ylabel(\"Predicted Sale Price [log]\")\n",
    "plt.plot([10.5, 13.5], [10.5, 13.5], c = \"red\")\n",
    "plt.show()"
   ]
  },
  {
   "cell_type": "code",
   "execution_count": 37,
   "metadata": {},
   "outputs": [
    {
     "data": {
      "image/png": "[encoded data removed]",
      "text/plain": [
       "<matplotlib.figure.Figure at 0x11604ff98>"
      ]
     },
     "metadata": {},
     "output_type": "display_data"
    }
   ],
   "source": [
    "plt.scatter(Ytest, Ypred-Ytest)\n",
    "plt.xlabel(\"Observed Sale Price [log]\")\n",
    "plt.ylabel(\"Error [log]\")\n",
    "plt.hlines(y = 0, xmin = 10.5, xmax = 13.5, color = \"red\")\n",
    "plt.show()"
   ]
  },
  {
   "cell_type": "code",
   "execution_count": null,
   "metadata": {
    "collapsed": true
   },
   "outputs": [],
   "source": []
  }
 ],
 "metadata": {
  "kernelspec": {
   "display_name": "Python 3",
   "language": "python",
   "name": "python3"
  },
  "language_info": {
   "codemirror_mode": {
    "name": "ipython",
    "version": 3
   },
   "file_extension": ".py",
   "mimetype": "text/x-python",
   "name": "python",
   "nbconvert_exporter": "python",
   "pygments_lexer": "ipython3",
   "version": "3.6.0"
  },
  "latex_envs": {
   "LaTeX_envs_menu_present": true,
   "autocomplete": true,
   "bibliofile": "biblio.bib",
   "cite_by": "apalike",
   "current_citInitial": 1,
   "eqLabelWithNumbers": true,
   "eqNumInitial": 1,
   "hotkeys": {
    "equation": "Ctrl-E",
    "itemize": "Ctrl-I"
   },
   "labels_anchors": false,
   "latex_user_defs": false,
   "report_style_numbering": false,
   "user_envs_cfg": false
  }
 },
 "nbformat": 4,
 "nbformat_minor": 2
}
